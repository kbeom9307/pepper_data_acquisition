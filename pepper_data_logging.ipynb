{
 "cells": [
  {
   "cell_type": "markdown",
   "metadata": {},
   "source": [
    "## pepper data acquisition"
   ]
  },
  {
   "cell_type": "markdown",
   "metadata": {},
   "source": [
    "### import library"
   ]
  },
  {
   "cell_type": "code",
   "execution_count": 2,
   "metadata": {},
   "outputs": [
    {
     "data": {
      "text/plain": [
       "True"
      ]
     },
     "execution_count": 2,
     "metadata": {},
     "output_type": "execute_result"
    }
   ],
   "source": [
    "import naoqi as n\n",
    "import argparse\n",
    "import sys\n",
    "import os\n",
    "import time\n",
    "import calendar\n",
    "import cv2\n",
    "from PIL import Image\n",
    "import vision_definitions\n",
    "import numpy as np\n",
    "\n",
    "nao_ip = '192.168.0.64'\n",
    "#nao_ip = '192.168.0.25'\n",
    "port = 9559\n",
    "\n",
    "motion = n.ALProxy('ALMotion', nao_ip, port)\n",
    "motion.wakeUp()"
   ]
  },
  {
   "cell_type": "code",
   "execution_count": 5,
   "metadata": {},
   "outputs": [],
   "source": [
    "#motion.rest()"
   ]
  },
  {
   "cell_type": "code",
   "execution_count": 3,
   "metadata": {},
   "outputs": [
    {
     "data": {
      "text/plain": [
       "False"
      ]
     },
     "execution_count": 3,
     "metadata": {},
     "output_type": "execute_result"
    }
   ],
   "source": [
    "motion.setCollisionProtectionEnabled('LArm', False)\n",
    "motion.getCollisionProtectionEnabled('LArm')"
   ]
  },
  {
   "cell_type": "code",
   "execution_count": 4,
   "metadata": {},
   "outputs": [
    {
     "data": {
      "text/plain": [
       "False"
      ]
     },
     "execution_count": 4,
     "metadata": {},
     "output_type": "execute_result"
    }
   ],
   "source": [
    "motion.setExternalCollisionProtectionEnabled('LArm',False)\n",
    "motion.getExternalCollisionProtectionEnabled('LArm')"
   ]
  },
  {
   "cell_type": "code",
   "execution_count": 7,
   "metadata": {},
   "outputs": [
    {
     "ename": "RuntimeError",
     "evalue": "\tALMotion::setCollisionProtectionEnabled\n\t\tALMotion::setCollisionProtectionEnabled\n\tThe chain name must be \"Arms\", \"LArm\" or \"RArm\".",
     "output_type": "error",
     "traceback": [
      "\u001b[0;31m---------------------------------------------------------------------------\u001b[0m",
      "\u001b[0;31mRuntimeError\u001b[0m                              Traceback (most recent call last)",
      "\u001b[0;32m<ipython-input-7-12cce4bb53ad>\u001b[0m in \u001b[0;36m<module>\u001b[0;34m()\u001b[0m\n\u001b[0;32m----> 1\u001b[0;31m \u001b[0mmotion\u001b[0m\u001b[0;34m.\u001b[0m\u001b[0msetCollisionProtectionEnabled\u001b[0m\u001b[0;34m(\u001b[0m\u001b[0;34m'Body'\u001b[0m\u001b[0;34m,\u001b[0m \u001b[0mFalse\u001b[0m\u001b[0;34m)\u001b[0m\u001b[0;34m\u001b[0m\u001b[0m\n\u001b[0m",
      "\u001b[0;32m/home/beom/naoqi/pynaoqi-python2.7-2.5.5.5-linux64/lib/python2.7/site-packages/naoqi.pyc\u001b[0m in \u001b[0;36m__call__\u001b[0;34m(self, *args, **kwargs)\u001b[0m\n\u001b[1;32m    192\u001b[0m                     \u001b[0mself\u001b[0m\u001b[0;34m.\u001b[0m\u001b[0m__method__\u001b[0m \u001b[0;34m=\u001b[0m \u001b[0mmethod\u001b[0m\u001b[0;34m\u001b[0m\u001b[0m\n\u001b[1;32m    193\u001b[0m                 \u001b[0;32mdef\u001b[0m \u001b[0m__call__\u001b[0m\u001b[0;34m(\u001b[0m\u001b[0mself\u001b[0m\u001b[0;34m,\u001b[0m \u001b[0;34m*\u001b[0m\u001b[0margs\u001b[0m\u001b[0;34m,\u001b[0m \u001b[0;34m**\u001b[0m\u001b[0mkwargs\u001b[0m\u001b[0;34m)\u001b[0m\u001b[0;34m:\u001b[0m\u001b[0;34m\u001b[0m\u001b[0m\n\u001b[0;32m--> 194\u001b[0;31m                     \u001b[0;32mreturn\u001b[0m \u001b[0mself\u001b[0m\u001b[0;34m.\u001b[0m\u001b[0m__wrapped__\u001b[0m\u001b[0;34m.\u001b[0m\u001b[0mmethod_missing\u001b[0m\u001b[0;34m(\u001b[0m\u001b[0mself\u001b[0m\u001b[0;34m.\u001b[0m\u001b[0m__method__\u001b[0m\u001b[0;34m,\u001b[0m \u001b[0;34m*\u001b[0m\u001b[0margs\u001b[0m\u001b[0;34m,\u001b[0m \u001b[0;34m**\u001b[0m\u001b[0mkwargs\u001b[0m\u001b[0;34m)\u001b[0m\u001b[0;34m\u001b[0m\u001b[0m\n\u001b[0m\u001b[1;32m    195\u001b[0m \u001b[0;34m\u001b[0m\u001b[0m\n\u001b[1;32m    196\u001b[0m             \u001b[0;32mreturn\u001b[0m \u001b[0mMethodMissing\u001b[0m\u001b[0;34m(\u001b[0m\u001b[0mself\u001b[0m\u001b[0;34m,\u001b[0m \u001b[0mattr\u001b[0m\u001b[0;34m)\u001b[0m\u001b[0;34m\u001b[0m\u001b[0m\n",
      "\u001b[0;32m/home/beom/naoqi/pynaoqi-python2.7-2.5.5.5-linux64/lib/python2.7/site-packages/naoqi.pyc\u001b[0m in \u001b[0;36mmethod_missing\u001b[0;34m(self, method, *args, **kwargs)\u001b[0m\n\u001b[1;32m    262\u001b[0m                 \u001b[0mresult\u001b[0m \u001b[0;34m=\u001b[0m \u001b[0mself\u001b[0m\u001b[0;34m.\u001b[0m\u001b[0mpythonCall\u001b[0m\u001b[0;34m(\u001b[0m\u001b[0mlist\u001b[0m\u001b[0;34m)\u001b[0m\u001b[0;34m\u001b[0m\u001b[0m\n\u001b[1;32m    263\u001b[0m           \u001b[0;32mexcept\u001b[0m \u001b[0mRuntimeError\u001b[0m\u001b[0;34m,\u001b[0m\u001b[0me\u001b[0m\u001b[0;34m:\u001b[0m\u001b[0;34m\u001b[0m\u001b[0m\n\u001b[0;32m--> 264\u001b[0;31m                 \u001b[0;32mraise\u001b[0m \u001b[0me\u001b[0m\u001b[0;34m\u001b[0m\u001b[0m\n\u001b[0m\u001b[1;32m    265\u001b[0m                 \u001b[0;31m#print e.args[0]\u001b[0m\u001b[0;34m\u001b[0m\u001b[0;34m\u001b[0m\u001b[0m\n\u001b[1;32m    266\u001b[0m \u001b[0;34m\u001b[0m\u001b[0m\n",
      "\u001b[0;31mRuntimeError\u001b[0m: \tALMotion::setCollisionProtectionEnabled\n\t\tALMotion::setCollisionProtectionEnabled\n\tThe chain name must be \"Arms\", \"LArm\" or \"RArm\"."
     ]
    }
   ],
   "source": [
    "motion.setCollisionProtectionEnabled('Body', False)"
   ]
  },
  {
   "cell_type": "markdown",
   "metadata": {},
   "source": [
    "### initialize module"
   ]
  },
  {
   "cell_type": "code",
   "execution_count": 5,
   "metadata": {},
   "outputs": [],
   "source": [
    "memory = n.ALProxy('ALMemory', nao_ip, port)\n",
    "#almodule = n.ALProxy('ALModule', nao_ip, port)\n",
    "\n",
    "#touch = n.ALModule('ALTouch')\n",
    "#touch = memory.subscriber('TouchChanged')\n",
    "touch = n.ALProxy('ALTouch', nao_ip, port)\n",
    "vision = n.ALProxy('ALVideoDevice', nao_ip, port)\n",
    "record = n.ALProxy('ALMotionRecorder', nao_ip, port)\n",
    "video = n.ALProxy(\"ALVideoDevice\", nao_ip, port)\n",
    "month_dict = dict((month, index) for index, month in enumerate(calendar.month_abbr) if month)\n",
    "#memory.getDataList()"
   ]
  },
  {
   "cell_type": "code",
   "execution_count": 6,
   "metadata": {},
   "outputs": [],
   "source": [
    "# MEMORY_VALUE_NAMES is the list of ALMemory values names you want to save.\n",
    "def recordData(ALMEMORY_KEY_NAMES):\n",
    "    \"\"\" Record the data from ALMemory.\n",
    "    Returns a matrix of values\n",
    "\n",
    "    \"\"\"\n",
    "    print \"Recording data ...\"\n",
    "    data = list()\n",
    "    start = time.time()\n",
    "    for range_counter in range(200):\n",
    "        line = list()\n",
    "        for key in ALMEMORY_KEY_NAMES:\n",
    "            value = memory.getData(key)\n",
    "            line.append(value)\n",
    "        data.append(line)\n",
    "        time.sleep(0.01)\n",
    "    print 'Recording finished! time : ', time.time()-start    \n",
    "    return data"
   ]
  },
  {
   "cell_type": "code",
   "execution_count": 7,
   "metadata": {},
   "outputs": [
    {
     "ename": "NameError",
     "evalue": "name 'data' is not defined",
     "output_type": "error",
     "traceback": [
      "\u001b[0;31m---------------------------------------------------------------------------\u001b[0m",
      "\u001b[0;31mNameError\u001b[0m                                 Traceback (most recent call last)",
      "\u001b[0;32m<ipython-input-7-1fc512410075>\u001b[0m in \u001b[0;36m<module>\u001b[0;34m()\u001b[0m\n\u001b[0;32m----> 1\u001b[0;31m \u001b[0mnp\u001b[0m\u001b[0;34m.\u001b[0m\u001b[0marray\u001b[0m\u001b[0;34m(\u001b[0m\u001b[0mdata\u001b[0m\u001b[0;34m)\u001b[0m\u001b[0;34m[\u001b[0m\u001b[0;36m1\u001b[0m\u001b[0;34m]\u001b[0m\u001b[0;34m[\u001b[0m\u001b[0;34m:\u001b[0m\u001b[0;36m5\u001b[0m\u001b[0;34m]\u001b[0m\u001b[0;34m\u001b[0m\u001b[0m\n\u001b[0m",
      "\u001b[0;31mNameError\u001b[0m: name 'data' is not defined"
     ]
    }
   ],
   "source": [
    "np.array(data)[1][:5]"
   ]
  },
  {
   "cell_type": "code",
   "execution_count": 8,
   "metadata": {},
   "outputs": [
    {
     "name": "stdout",
     "output_type": "stream",
     "text": [
      "Head is touched\n",
      "Head is touched\n",
      "Head is touched\n",
      "Head is touched\n",
      "Head is touched\n",
      "Head is touched\n",
      "Head is touched\n",
      "Head is touched\n",
      "Head is touched\n",
      "Head is touched\n",
      "Head is touched\n",
      "Head is touched\n",
      "Head is touched\n",
      "Head is touched\n",
      "Head is touched\n",
      "Head is touched\n",
      "Head is touched\n",
      "Head is touched\n",
      "Head is touched\n",
      "Head is touched\n",
      "Head is touched\n",
      "Head is touched\n",
      "Head is touched\n",
      "Head is touched\n",
      "Head is touched\n",
      "Head is touched\n",
      "Head is touched\n",
      "Head is touched\n",
      "Head is touched\n",
      "Head is touched\n",
      "Head is touched\n",
      "Head is touched\n",
      "Head is touched\n",
      "Head is touched\n",
      "Head is touched\n",
      "Head is touched\n",
      "Head is touched\n",
      "Head is touched\n",
      "Head is touched\n",
      "Head is touched\n",
      "Head is touched\n",
      "Head is touched\n",
      "Head is touched\n",
      "Head is touched\n",
      "Head is touched\n",
      "Head is touched\n",
      "Head is touched\n",
      "Head is touched\n",
      "Head is touched\n",
      "Head is touched\n",
      "Head is touched\n",
      "Head is touched\n",
      "Head is touched\n",
      "Head is touched\n",
      "Head is touched\n",
      "Head is touched\n",
      "Head is touched\n",
      "Head is touched\n",
      "Head is touched\n",
      "Head is touched\n",
      "Head is touched\n",
      "Head is touched\n",
      "Head is touched\n",
      "Head is touched\n",
      "Head is touched\n",
      "Head is touched\n",
      "Head is touched\n",
      "Head is touched\n",
      "Head is touched\n",
      "Head is touched\n",
      "Head is touched\n",
      "Head is touched\n",
      "Head is touched\n",
      "Head is touched\n",
      "Head is touched\n",
      "Head is touched\n",
      "Head is touched\n",
      "Head is touched\n",
      "stiffness set to 00\n",
      "stiffness set to 00\n",
      "Recording data ...\n",
      "Recording finished! time :  10.438035965\n"
     ]
    },
    {
     "ename": "RuntimeError",
     "evalue": "\tALMemory::getData\n\tSession closed",
     "output_type": "error",
     "traceback": [
      "\u001b[0;31m---------------------------------------------------------------------------\u001b[0m",
      "\u001b[0;31mRuntimeError\u001b[0m                              Traceback (most recent call last)",
      "\u001b[0;32m<ipython-input-8-29ddfebe608d>\u001b[0m in \u001b[0;36m<module>\u001b[0;34m()\u001b[0m\n\u001b[1;32m     40\u001b[0m         \u001b[0;31m#time.sleep(0.5)\u001b[0m\u001b[0;34m\u001b[0m\u001b[0;34m\u001b[0m\u001b[0m\n\u001b[1;32m     41\u001b[0m \u001b[0;34m\u001b[0m\u001b[0m\n\u001b[0;32m---> 42\u001b[0;31m     \u001b[0;32mif\u001b[0m \u001b[0mmemory\u001b[0m\u001b[0;34m.\u001b[0m\u001b[0mgetData\u001b[0m\u001b[0;34m(\u001b[0m\u001b[0;34m'BackBumperPressed'\u001b[0m\u001b[0;34m)\u001b[0m\u001b[0;34m:\u001b[0m\u001b[0;34m\u001b[0m\u001b[0m\n\u001b[0m\u001b[1;32m     43\u001b[0m         \u001b[0mdata\u001b[0m \u001b[0;34m=\u001b[0m \u001b[0mrecordData\u001b[0m\u001b[0;34m(\u001b[0m\u001b[0mALMEMORY_KEY_NAMES\u001b[0m\u001b[0;34m)\u001b[0m\u001b[0;34m\u001b[0m\u001b[0m\n\u001b[1;32m     44\u001b[0m \u001b[0;34m\u001b[0m\u001b[0m\n",
      "\u001b[0;32m/home/beom/naoqi/pynaoqi-python2.7-2.5.5.5-linux64/lib/python2.7/site-packages/naoqi.pyc\u001b[0m in \u001b[0;36m__call__\u001b[0;34m(self, *args, **kwargs)\u001b[0m\n\u001b[1;32m    192\u001b[0m                     \u001b[0mself\u001b[0m\u001b[0;34m.\u001b[0m\u001b[0m__method__\u001b[0m \u001b[0;34m=\u001b[0m \u001b[0mmethod\u001b[0m\u001b[0;34m\u001b[0m\u001b[0m\n\u001b[1;32m    193\u001b[0m                 \u001b[0;32mdef\u001b[0m \u001b[0m__call__\u001b[0m\u001b[0;34m(\u001b[0m\u001b[0mself\u001b[0m\u001b[0;34m,\u001b[0m \u001b[0;34m*\u001b[0m\u001b[0margs\u001b[0m\u001b[0;34m,\u001b[0m \u001b[0;34m**\u001b[0m\u001b[0mkwargs\u001b[0m\u001b[0;34m)\u001b[0m\u001b[0;34m:\u001b[0m\u001b[0;34m\u001b[0m\u001b[0m\n\u001b[0;32m--> 194\u001b[0;31m                     \u001b[0;32mreturn\u001b[0m \u001b[0mself\u001b[0m\u001b[0;34m.\u001b[0m\u001b[0m__wrapped__\u001b[0m\u001b[0;34m.\u001b[0m\u001b[0mmethod_missing\u001b[0m\u001b[0;34m(\u001b[0m\u001b[0mself\u001b[0m\u001b[0;34m.\u001b[0m\u001b[0m__method__\u001b[0m\u001b[0;34m,\u001b[0m \u001b[0;34m*\u001b[0m\u001b[0margs\u001b[0m\u001b[0;34m,\u001b[0m \u001b[0;34m**\u001b[0m\u001b[0mkwargs\u001b[0m\u001b[0;34m)\u001b[0m\u001b[0;34m\u001b[0m\u001b[0m\n\u001b[0m\u001b[1;32m    195\u001b[0m \u001b[0;34m\u001b[0m\u001b[0m\n\u001b[1;32m    196\u001b[0m             \u001b[0;32mreturn\u001b[0m \u001b[0mMethodMissing\u001b[0m\u001b[0;34m(\u001b[0m\u001b[0mself\u001b[0m\u001b[0;34m,\u001b[0m \u001b[0mattr\u001b[0m\u001b[0;34m)\u001b[0m\u001b[0;34m\u001b[0m\u001b[0m\n",
      "\u001b[0;32m/home/beom/naoqi/pynaoqi-python2.7-2.5.5.5-linux64/lib/python2.7/site-packages/naoqi.pyc\u001b[0m in \u001b[0;36mmethod_missing\u001b[0;34m(self, method, *args, **kwargs)\u001b[0m\n\u001b[1;32m    262\u001b[0m                 \u001b[0mresult\u001b[0m \u001b[0;34m=\u001b[0m \u001b[0mself\u001b[0m\u001b[0;34m.\u001b[0m\u001b[0mpythonCall\u001b[0m\u001b[0;34m(\u001b[0m\u001b[0mlist\u001b[0m\u001b[0;34m)\u001b[0m\u001b[0;34m\u001b[0m\u001b[0m\n\u001b[1;32m    263\u001b[0m           \u001b[0;32mexcept\u001b[0m \u001b[0mRuntimeError\u001b[0m\u001b[0;34m,\u001b[0m\u001b[0me\u001b[0m\u001b[0;34m:\u001b[0m\u001b[0;34m\u001b[0m\u001b[0m\n\u001b[0;32m--> 264\u001b[0;31m                 \u001b[0;32mraise\u001b[0m \u001b[0me\u001b[0m\u001b[0;34m\u001b[0m\u001b[0m\n\u001b[0m\u001b[1;32m    265\u001b[0m                 \u001b[0;31m#print e.args[0]\u001b[0m\u001b[0;34m\u001b[0m\u001b[0;34m\u001b[0m\u001b[0m\n\u001b[1;32m    266\u001b[0m \u001b[0;34m\u001b[0m\u001b[0m\n",
      "\u001b[0;31mRuntimeError\u001b[0m: \tALMemory::getData\n\tSession closed"
     ]
    }
   ],
   "source": [
    "ALMEMORY_KEY_NAMES = [\"Device/SubDeviceList/LShoulderPitch/Position/Actuator/Value\",\n",
    "                      \"Device/SubDeviceList/LShoulderRoll/Position/Actuator/Value\",\n",
    "                      \"Device/SubDeviceList/LElbowYaw/Position/Actuator/Value\",\n",
    "                      \"Device/SubDeviceList/LElbowRoll/Position/Actuator/Value\",\n",
    "                      \"Device/SubDeviceList/LWristYaw/Position/Actuator/Value\",\n",
    "                      \"Device/SubDeviceList/LShoulderPitch/Position/Sensor/Value\",\n",
    "                      \"Device/SubDeviceList/LShoulderRoll/Position/Sensor/Value\",\n",
    "                      \"Device/SubDeviceList/LElbowYaw/Position/Sensor/Value\",\n",
    "                      \"Device/SubDeviceList/LElbowRoll/Position/Sensor/Value\",\n",
    "                      \"Device/SubDeviceList/LWristYaw/Position/Sensor/Value\"]\n",
    "\n",
    "resolution = vision_definitions.kQVGA # (320x240)\n",
    "colorSpace = 10 #vision_definitions.kYUVColorSpace\n",
    "fps = 30\n",
    "\n",
    "videoClient = video.subscribe(\"pepper_video1\", resolution, colorSpace, fps)\n",
    "prevTime = 0\n",
    "FPS= 0\n",
    "\n",
    "output_path = ('/home/beom/beom_ws/pepper_test/pepper_%02d_%02d_%04d.mp4' %(int(month_dict[time.ctime().split()[1]]), int(time.ctime().split()[2]), int(time.ctime().split()[3][:2]+time.ctime().split()[3][3:5])))\n",
    "out = cv2.VideoWriter(output_path, cv2.VideoWriter_fourcc(*'DIVX'), 5, (320,240))\n",
    "\n",
    "recording_joints = ['LShoulderPitch', 'LShoulderRoll', 'LElbowYaw', 'LElbowRoll', 'LWristYaw']\n",
    "count = -1\n",
    "#logging_data = []\n",
    "joint_data = []\n",
    "head_data = []\n",
    "position_data = []\n",
    "\n",
    "while True:\n",
    "    if memory.getData(\"MiddleTactilTouched\"):\n",
    "        motion.setStiffnesses('Head', 0.0)\n",
    "        print 'Head is touched'\n",
    "    else : \n",
    "        motion.setStiffnesses('Head', 1.0)\n",
    "       \n",
    "    if memory.getData('LeftBumperPressed'):\n",
    "        motion.setStiffnesses('LArm', 0.0)\n",
    "        print ('stiffness set to %0.2d' %motion.getStiffnesses(\"LArm\")[0])\n",
    "        #time.sleep(0.5)\n",
    "        \n",
    "    if memory.getData('BackBumperPressed'):\n",
    "        data = recordData(ALMEMORY_KEY_NAMES)\n",
    "        \n",
    "    \n",
    "    if memory.getData('RightBumperPressed'):\n",
    "        motion.setStiffnesses('LArm', 0.9)\n",
    "        while True:\n",
    "            count += 1 \n",
    "            curTime = time.time()\n",
    "            naoImage = video.getImageRemote(videoClient)\n",
    "            #t1 = time.time()\n",
    "\n",
    "            # Get the image size and pixel array.\n",
    "            imageWidth = naoImage[0]\n",
    "            imageHeight = naoImage[1]\n",
    "            array = naoImage[6]\n",
    "            image_string = str(bytearray(array))\n",
    "\n",
    "            im = Image.frombytes(\"RGB\", (imageWidth, imageHeight), image_string)\n",
    "            #image = numpy.array(im)\n",
    "\n",
    "            image = cv2.cvtColor(np.array(im), cv2.COLOR_YUV2RGB)#, cv2.COLOR_BGR2RGB)\n",
    "\n",
    "\n",
    "            #video_fps = vid.get(cv2.CAP_PROP_FPS)\n",
    "            #out = cv2.VideoWriter(output_path, video_FourCC, video_fps, video_size)\n",
    "            #frame = Image.fromarray(image)\n",
    "            #image_detect = YOLO().detect_image(frame)\n",
    "            #result = np.asarray(image_detect)\n",
    "            out.write(image)\n",
    "            cv2.putText(image, 'FPS : %0.3f' %FPS, (5, 25), cv2.FONT_HERSHEY_SIMPLEX, 0.6, (255, 255, 255), 2)\n",
    "            #result = cv2.cvtColor(numpy.array(im), cv2.COLOR_YUV2RGB)\n",
    "            cv2.imshow(\"pepper_test\",image)\n",
    "            \n",
    "            if count < 200:\n",
    "                #motion.setAngles(recording_joints, np.array(angle_lists).T[count].tolist(), 0.1)\n",
    "                motion.setAngles(recording_joints, data[count][5:], 0.3)\n",
    "                joint_data.append(motion.getAngles('LArm', False)[:5])\n",
    "                head_data.append(motion.getAngles('Head', False))\n",
    "                position_data.append(motion.getPosition('LWristYaw', 0, False))\n",
    "                #print np.array(angle_lists).T[count].tolist()\n",
    "            else:\n",
    "                pass\n",
    "\n",
    "            sec = curTime - prevTime\n",
    "            FPS = 1 / (sec)\n",
    "            prevTime = curTime\n",
    "\n",
    "\n",
    "            if cv2.waitKey(1) & 0xFF == ord('q') or count == 300 :\n",
    "                video.unsubscribe(videoClient)\n",
    "                out.release()\n",
    "                cv2.destroyAllWindows()\n",
    "                count = -1\n",
    "                break\n",
    "\n",
    "# Register a Generic Video Module\n",
    "\n",
    "\n"
   ]
  },
  {
   "cell_type": "code",
   "execution_count": 15,
   "metadata": {},
   "outputs": [
    {
     "name": "stdout",
     "output_type": "stream",
     "text": [
      "joint :  (200, 5)\n",
      "head_data :  (200, 2)\n",
      "position_data :  (200, 6)\n"
     ]
    }
   ],
   "source": [
    "print 'joint : ' , np.array(joint_data).shape\n",
    "print 'head_data : ' , np.array(head_data).shape\n",
    "print 'position_data : ', np.array(position_data).shape"
   ]
  },
  {
   "cell_type": "code",
   "execution_count": 17,
   "metadata": {},
   "outputs": [],
   "source": [
    "joint_data = np.array(joint_data)"
   ]
  },
  {
   "cell_type": "code",
   "execution_count": 19,
   "metadata": {},
   "outputs": [],
   "source": [
    "np.save('/home/beom/beom_ws/pepper_data_acquisition/joint_data', joint_data)\n",
    "np.save('/home/beom/beom_ws/pepper_data_acquisition/head_data', head_data)\n",
    "np.save('/home/beom/beom_ws/pepper_data_acquisition/position_data', position_data)\n"
   ]
  },
  {
   "cell_type": "code",
   "execution_count": null,
   "metadata": {},
   "outputs": [],
   "source": [
    "time.ctime().split()"
   ]
  },
  {
   "cell_type": "code",
   "execution_count": 37,
   "metadata": {},
   "outputs": [
    {
     "data": {
      "text/plain": [
       "[0.8999999761581421,\n",
       " 0.8999999761581421,\n",
       " 0.8999999761581421,\n",
       " 0.8999999761581421,\n",
       " 0.8999999761581421,\n",
       " 0.8999999761581421]"
      ]
     },
     "execution_count": 37,
     "metadata": {},
     "output_type": "execute_result"
    }
   ],
   "source": [
    "motion.getStiffnesses('LArm')"
   ]
  },
  {
   "cell_type": "code",
   "execution_count": 19,
   "metadata": {},
   "outputs": [],
   "source": [
    "motion.setStiffnesses('LArm', 0.3)\n",
    "for i in range(100):\n",
    "    motion.setAngles(recording_joints, data[i][5:], 0.1)\n",
    "    time.sleep(0.5)"
   ]
  },
  {
   "cell_type": "markdown",
   "metadata": {},
   "source": [
    "--- ---"
   ]
  },
  {
   "cell_type": "code",
   "execution_count": null,
   "metadata": {},
   "outputs": [],
   "source": [
    "#motion.wakeUp()\n",
    "motion.angleInterpolation(recording_joints, angle_lists, time_lists, isabsolute)"
   ]
  },
  {
   "cell_type": "code",
   "execution_count": 22,
   "metadata": {},
   "outputs": [
    {
     "data": {
      "text/plain": [
       "[1.3468351364135742,\n",
       " 0.2837865352630615,\n",
       " -1.2593982219696045,\n",
       " -0.6994953155517578,\n",
       " 0.07819199562072754]"
      ]
     },
     "execution_count": 22,
     "metadata": {},
     "output_type": "execute_result"
    }
   ],
   "source": [
    "recording_joints\n",
    "data[90][5:]"
   ]
  },
  {
   "cell_type": "code",
   "execution_count": 28,
   "metadata": {},
   "outputs": [],
   "source": [
    "motion.setAngles(recording_joints, data[90][:5], 0.1)"
   ]
  },
  {
   "cell_type": "code",
   "execution_count": null,
   "metadata": {},
   "outputs": [],
   "source": [
    "resolution = vision_definitions.kQVGA # (320x240)\n",
    "colorSpace = 10 #vision_definitions.kYUVColorSpace\n",
    "fps = 30\n",
    "\n",
    "videoClient = video.subscribe(\"pepper_video1\", resolution, colorSpace, fps)\n",
    "prevTime = 0\n",
    "FPS= 0\n",
    "\n",
    "output_path = ('/home/mmmil-hw/Ubuntu/pepper_test/pepper_%02d_%02d_%04d.mp4' %(int(month_dict[time.ctime().split()[1]]), int(time.ctime().split()[2]), int(time.ctime().split()[3][:2]+time.ctime().split()[3][3:5])))\n",
    "out = cv2.VideoWriter(output_path, cv2.VideoWriter_fourcc(*'DIVX'), 5, (320,240))\n",
    "\n",
    "while True:\n",
    "    count += 1 \n",
    "    curTime = time.time()\n",
    "    naoImage = video.getImageRemote(videoClient)\n",
    "    #t1 = time.time()\n",
    "\n",
    "    # Get the image size and pixel array.\n",
    "    imageWidth = naoImage[0]\n",
    "    imageHeight = naoImage[1]\n",
    "    array = naoImage[6]\n",
    "    image_string = str(bytearray(array))\n",
    "\n",
    "    im = Image.frombytes(\"RGB\", (imageWidth, imageHeight), image_string)\n",
    "    #image = numpy.array(im)\n",
    "\n",
    "    image = cv2.cvtColor(np.array(im), cv2.COLOR_YUV2RGB)#, cv2.COLOR_BGR2RGB)\n",
    "\n",
    "\n",
    "    #video_fps = vid.get(cv2.CAP_PROP_FPS)\n",
    "    #out = cv2.VideoWriter(output_path, video_FourCC, video_fps, video_size)\n",
    "    #frame = Image.fromarray(image)\n",
    "    #image_detect = YOLO().detect_image(frame)\n",
    "    #result = np.asarray(image_detect)\n",
    "    out.write(image)\n",
    "    cv2.putText(image, 'FPS : %0.3f' %FPS, (5, 25), cv2.FONT_HERSHEY_SIMPLEX, 0.6, (255, 255, 255), 2)\n",
    "    #result = cv2.cvtColor(numpy.array(im), cv2.COLOR_YUV2RGB)\n",
    "    cv2.imshow(\"pepper_test\",image)\n",
    "    if count < 200:\n",
    "        motion.setAngles(recording_joints, np.array(angle_lists).T[count].tolist(), 0.1)\n",
    "        print np.array(angle_lists).T[count].tolist()\n",
    "    else:\n",
    "        pass\n",
    "\n",
    "    sec = curTime - prevTime\n",
    "    FPS = 1 / (sec)\n",
    "    prevTime = curTime\n",
    "\n",
    "\n",
    "    if cv2.waitKey(1) & 0xFF == ord('q'): or \n",
    "        video.unsubscribe(videoClient)\n",
    "        out.release()\n",
    "        cv2.destroyAllWindows()\n",
    "        break"
   ]
  },
  {
   "cell_type": "code",
   "execution_count": null,
   "metadata": {},
   "outputs": [],
   "source": [
    "recording_joints = ['LShoulderPitch', 'LShoulderRoll', 'LElbowYaw', 'LElbowRoll', 'LWristYaw']\n",
    "while True:\n",
    "    if memory.getData('LeftBumperPressed'):\n",
    "        motion.setStiffnesses('LArm', 0.3)\n",
    "        print 'stiffness set to' + m.getstiffnesses(\"LArm\")\n",
    "        \n",
    "    if memory.getData('BackBumperPressed'):\n",
    "        data = recordData(ALMEMORY_KEY_NAMES)\n",
    "#stiffness off -> record data(expert demonstration) -> replay the motion + video + logging the replay motion \n"
   ]
  },
  {
   "cell_type": "code",
   "execution_count": null,
   "metadata": {},
   "outputs": [],
   "source": [
    "motion.setStiffnesses('LArm', 1.0)\n",
    "\n",
    "recording_joints = ['LShoulderPitch', 'LShoulderRoll', 'LElbowYaw', 'LElbowRoll', 'LWristYaw']\n",
    "time_list = np.arange(0,30,0.3)[1:].tolist() # float\n",
    "#time_lists = np.arange(1,100,1)\n",
    "angle_lists = np.array(data)[:,:5].T.tolist()\n",
    "isabsolute = True\n",
    "\n",
    "time_lists = []\n",
    "for i in range(5):\n",
    "    time_lists.append(time_list) \n",
    "    \n",
    "#motion.wakeUp()\n",
    "motion.angleInterpolation(recording_joints, angle_lists, time_lists, isabsolute)"
   ]
  }
 ],
 "metadata": {
  "kernelspec": {
   "display_name": "Python 2",
   "language": "python",
   "name": "python2"
  },
  "language_info": {
   "codemirror_mode": {
    "name": "ipython",
    "version": 2
   },
   "file_extension": ".py",
   "mimetype": "text/x-python",
   "name": "python",
   "nbconvert_exporter": "python",
   "pygments_lexer": "ipython2",
   "version": "2.7.12"
  }
 },
 "nbformat": 4,
 "nbformat_minor": 4
}
